{
 "cells": [
  {
   "cell_type": "markdown",
   "id": "605e26f9-c5f8-4dcc-9450-42f259047ffc",
   "metadata": {},
   "source": [
    "## Data Transformation and TEI Score Formula Construction  \n",
    "First we will transform the data using \"normalization\". The normalization methodology for this project can be debated, however, since this project's primary focus is not research accuracy, we'll skip this debate. \n",
    "- The data that we used:\n",
    "  * Internet users (% of population)\n",
    "  * R&D expenditure (% of GDP)\n",
    "  * High-tech exports (% of manufactured exports)\n",
    "  * GDP growth (annual %)\n",
    "- To understand digital competitiveness and tech-economy-index, we will categorize the data we used:\n",
    "  * KNOWLEDGE (ability to understand and build new techs), TECH (the environment that supports digital development), and FUTURE READINESS (how prepared the society and economy are for digital change) will be under one term that we will call \"Technology\": internet users, R&D exp, High-tech exports\n",
    "  * ECONOMY: GDP growth\n",
    "- Methodology and the data can also be debated, one may say that GDP growth might not be the best indicator for economic development, however we will skip this debate and develop the methodology part later on."
   ]
  },
  {
   "cell_type": "code",
   "execution_count": 2,
   "id": "8e68a7ab-2f9f-4d9f-8ee2-543a11ba1df8",
   "metadata": {
    "collapsed": true,
    "jupyter": {
     "outputs_hidden": true
    }
   },
   "outputs": [
    {
     "name": "stdout",
     "output_type": "stream",
     "text": [
      "             Country  Year  internet_users  rnd_expenditure  hightech_exports  \\\n",
      "0             Brazil  2010         40.6500          1.15992         12.590147   \n",
      "1             Brazil  2011         45.6900          1.13966         11.140908   \n",
      "2             Brazil  2012         48.5600          1.12684         11.887221   \n",
      "3             Brazil  2013         51.0400          1.19567         11.969862   \n",
      "4             Brazil  2014         54.5510          1.26971         12.371169   \n",
      "5             Brazil  2015         58.3280          1.37093         14.485900   \n",
      "6             Brazil  2016         60.8725          1.28637         16.000164   \n",
      "7             Brazil  2017         67.4713          1.11750         14.311889   \n",
      "8             Brazil  2018         70.4343          1.16769         14.744242   \n",
      "9             Brazil  2019         73.9124          1.21096         14.066805   \n",
      "10            Brazil  2020         81.3427          1.14526         11.350094   \n",
      "11            Brazil  2021         80.6899              NaN          9.001554   \n",
      "12            Brazil  2022         80.5278              NaN          9.111346   \n",
      "13            Brazil  2023         84.1506              NaN          9.849149   \n",
      "14             China  2010         34.3000          1.71372         32.150117   \n",
      "15             China  2011         38.3000          1.78034         30.500480   \n",
      "16             China  2012         42.3001          1.91214         30.861809   \n",
      "17             China  2013         45.8000          1.99786         31.585581   \n",
      "18             China  2014         47.9000          2.02243         29.703727   \n",
      "19             China  2015         50.3000          2.05701         30.431267   \n",
      "20             China  2016         53.2000          2.10033         30.254523   \n",
      "21             China  2017         54.3000          2.11603         30.911864   \n",
      "22             China  2018         59.2000          2.14058         31.548148   \n",
      "23             China  2019         64.0809          2.24463         30.818630   \n",
      "24             China  2020         70.0528          2.40666         31.276615   \n",
      "25             China  2021         73.0532          2.43260         30.219073   \n",
      "26             China  2022         75.6113          2.55518         27.765061   \n",
      "27             China  2023         90.6000              NaN         26.568214   \n",
      "28  Egypt, Arab Rep.  2010         21.6000          0.43345          0.953020   \n",
      "29  Egypt, Arab Rep.  2011         25.6000          0.53154          0.991984   \n",
      "30  Egypt, Arab Rep.  2012         26.4000          0.50899          0.616321   \n",
      "31  Egypt, Arab Rep.  2013         29.4000          0.63895          0.534838   \n",
      "32  Egypt, Arab Rep.  2014         33.8946          0.63649          1.252666   \n",
      "33  Egypt, Arab Rep.  2015         37.8194          0.71858          0.795058   \n",
      "34  Egypt, Arab Rep.  2016         41.2481          0.70848          0.504375   \n",
      "35  Egypt, Arab Rep.  2017         44.9502          0.64486          0.565233   \n",
      "36  Egypt, Arab Rep.  2018         46.9243          0.68839          0.862814   \n",
      "37  Egypt, Arab Rep.  2019         57.2829          0.79617          2.345266   \n",
      "38  Egypt, Arab Rep.  2020         71.9142          0.91564          2.554901   \n",
      "39  Egypt, Arab Rep.  2021         72.0560          0.91175          3.170819   \n",
      "40  Egypt, Arab Rep.  2022         72.1981          1.01968          3.402050   \n",
      "41  Egypt, Arab Rep.  2023         72.6899          1.03356          3.165783   \n",
      "42             India  2010          7.5000          0.78849          7.730160   \n",
      "43             India  2011         10.0700          0.75502          7.871173   \n",
      "44             India  2012         11.1000          0.74399          7.704394   \n",
      "45             India  2013         12.3000          0.70642          8.873504   \n",
      "46             India  2014         13.5000          0.70159          9.221222   \n",
      "47             India  2015         14.9000          0.69310          8.024769   \n",
      "48             India  2016         16.5000          0.66984          7.663257   \n",
      "49             India  2017         18.2000          0.66603          7.362081   \n",
      "\n",
      "    gdp_growth  \n",
      "0     7.528226  \n",
      "1     3.974423  \n",
      "2     1.921176  \n",
      "3     3.004823  \n",
      "4     0.503956  \n",
      "5    -3.545763  \n",
      "6    -3.275917  \n",
      "7     1.322869  \n",
      "8     1.783667  \n",
      "9     1.220778  \n",
      "10   -3.276759  \n",
      "11    4.762604  \n",
      "12    3.016694  \n",
      "13    3.241655  \n",
      "14   10.596272  \n",
      "15    9.461336  \n",
      "16    7.856174  \n",
      "17    7.778724  \n",
      "18    7.461900  \n",
      "19    6.978780  \n",
      "20    6.775556  \n",
      "21    6.891266  \n",
      "22    6.756718  \n",
      "23    6.068502  \n",
      "24    2.340188  \n",
      "25    8.570085  \n",
      "26    3.134189  \n",
      "27    5.414843  \n",
      "28    5.147235  \n",
      "29    1.764572  \n",
      "30    2.226200  \n",
      "31    2.185466  \n",
      "32    2.915912  \n",
      "33    4.372019  \n",
      "34    4.346643  \n",
      "35    4.181221  \n",
      "36    5.331109  \n",
      "37    5.552093  \n",
      "38    3.550165  \n",
      "39    3.290646  \n",
      "40    6.587846  \n",
      "41    3.760281  \n",
      "42    8.497585  \n",
      "43    5.241316  \n",
      "44    5.456388  \n",
      "45    6.386106  \n",
      "46    7.410228  \n",
      "47    7.996254  \n",
      "48    8.256306  \n",
      "49    6.795383  \n",
      "  Country  Year  internet_users  rnd_expenditure  hightech_exports  gdp_growth\n",
      "0  Brazil  2010          40.650          1.15992         12.590147    7.528226\n",
      "1  Brazil  2011          45.690          1.13966         11.140908    3.974423\n",
      "2  Brazil  2012          48.560          1.12684         11.887221    1.921176\n",
      "3  Brazil  2013          51.040          1.19567         11.969862    3.004823\n",
      "4  Brazil  2014          54.551          1.26971         12.371169    0.503956\n"
     ]
    }
   ],
   "source": [
    "# run the 01_notebook and take the variables\n",
    "%run 01_download_clean.ipynb\n",
    "print(df.head())"
   ]
  },
  {
   "cell_type": "code",
   "execution_count": 11,
   "id": "96302c17-2c0c-4c51-a035-d018e7ea019e",
   "metadata": {
    "collapsed": true,
    "jupyter": {
     "outputs_hidden": true
    }
   },
   "outputs": [
    {
     "name": "stdout",
     "output_type": "stream",
     "text": [
      "0      0.448675\n",
      "1      0.504305\n",
      "2      0.535982\n",
      "3      0.563355\n",
      "4      0.602108\n",
      "         ...   \n",
      "149    0.757854\n",
      "150    0.775938\n",
      "151    0.819095\n",
      "152    0.867439\n",
      "153    0.861810\n",
      "Name: internet_users_normalized, Length: 154, dtype: float64\n"
     ]
    }
   ],
   "source": [
    "## Here we will normalize the data by using \"simple feature scaling\" - [0,1]\n",
    "df[\"internet_users_normalized\"] = df[\"internet_users\"]/df[\"internet_users\"].max()\n",
    "print(df[\"internet_users_normalized\"])"
   ]
  },
  {
   "cell_type": "code",
   "execution_count": 22,
   "id": "7cdfb448-1c09-48c4-b516-10542832ed44",
   "metadata": {},
   "outputs": [
    {
     "name": "stdout",
     "output_type": "stream",
     "text": [
      "0      0.453948\n",
      "1      0.446019\n",
      "2      0.441002\n",
      "3      0.467940\n",
      "4      0.496916\n",
      "         ...   \n",
      "149    0.163010\n",
      "150         NaN\n",
      "151    0.166305\n",
      "152         NaN\n",
      "153         NaN\n",
      "Name: rnd_expenditure_normalized, Length: 154, dtype: float64\n"
     ]
    }
   ],
   "source": [
    "df[\"rnd_expenditure_normalized\"] = df[\"rnd_expenditure\"]/df[\"rnd_expenditure\"].max()\n",
    "print(df[\"rnd_expenditure_normalized\"])"
   ]
  },
  {
   "cell_type": "code",
   "execution_count": 24,
   "id": "606999e5-b505-441d-b211-f22985c6ca93",
   "metadata": {
    "collapsed": true,
    "jupyter": {
     "outputs_hidden": true
    }
   },
   "outputs": [
    {
     "name": "stdout",
     "output_type": "stream",
     "text": [
      "0      0.187786\n",
      "1      0.166170\n",
      "2      0.177302\n",
      "3      0.178534\n",
      "4      0.184520\n",
      "         ...   \n",
      "149    0.603078\n",
      "150    0.622568\n",
      "151    0.619578\n",
      "152    0.636723\n",
      "153         NaN\n",
      "Name: hightech_exports_normalized, Length: 154, dtype: float64\n"
     ]
    }
   ],
   "source": [
    "df[\"hightech_exports_normalized\"] = df[\"hightech_exports\"]/df[\"hightech_exports\"].max()\n",
    "print(df[\"hightech_exports_normalized\"])"
   ]
  },
  {
   "cell_type": "code",
   "execution_count": 25,
   "id": "ca9ae2d2-e058-407c-ac33-4080948a5917",
   "metadata": {
    "collapsed": true,
    "jupyter": {
     "outputs_hidden": true
    }
   },
   "outputs": [
    {
     "name": "stdout",
     "output_type": "stream",
     "text": [
      "0      0.658096\n",
      "1      0.347433\n",
      "2      0.167944\n",
      "3      0.262673\n",
      "4      0.044054\n",
      "         ...   \n",
      "149    0.643326\n",
      "150    0.250486\n",
      "151    0.223240\n",
      "152    0.746324\n",
      "153    0.442770\n",
      "Name: gdp_growth_normalized, Length: 154, dtype: float64\n"
     ]
    }
   ],
   "source": [
    "df[\"gdp_growth_normalized\"] = df[\"gdp_growth\"]/df[\"gdp_growth\"].max()\n",
    "print(df[\"gdp_growth_normalized\"])"
   ]
  },
  {
   "cell_type": "markdown",
   "id": "9e85ca0a-1118-4740-a9e3-7ca96ba40b24",
   "metadata": {},
   "source": [
    "So now we have the normalized values\n",
    "\n",
    "We will continue with constructing the TEI score formula. However before, let's see all the countries's new values on the categories."
   ]
  },
  {
   "cell_type": "code",
   "execution_count": 26,
   "id": "06269a50-6a27-4979-9cd3-e14769f050d0",
   "metadata": {},
   "outputs": [
    {
     "name": "stdout",
     "output_type": "stream",
     "text": [
      "      Country  internet_users_normalized  rnd_expenditure_normalized  \\\n",
      "0      Brazil                   0.448675                    0.453948   \n",
      "1      Brazil                   0.504305                    0.446019   \n",
      "2      Brazil                   0.535982                    0.441002   \n",
      "3      Brazil                   0.563355                    0.467940   \n",
      "4      Brazil                   0.602108                    0.496916   \n",
      "..        ...                        ...                         ...   \n",
      "149  Viet Nam                   0.757854                    0.163010   \n",
      "150  Viet Nam                   0.775938                         NaN   \n",
      "151  Viet Nam                   0.819095                    0.166305   \n",
      "152  Viet Nam                   0.867439                         NaN   \n",
      "153  Viet Nam                   0.861810                         NaN   \n",
      "\n",
      "     hightech_exports_normalized  gdp_growth_normalized  \n",
      "0                       0.187786               0.658096  \n",
      "1                       0.166170               0.347433  \n",
      "2                       0.177302               0.167944  \n",
      "3                       0.178534               0.262673  \n",
      "4                       0.184520               0.044054  \n",
      "..                           ...                    ...  \n",
      "149                     0.603078               0.643326  \n",
      "150                     0.622568               0.250486  \n",
      "151                     0.619578               0.223240  \n",
      "152                     0.636723               0.746324  \n",
      "153                          NaN               0.442770  \n",
      "\n",
      "[154 rows x 5 columns]\n"
     ]
    }
   ],
   "source": [
    "print(df[[\"Country\", \"internet_users_normalized\", \"rnd_expenditure_normalized\", \"hightech_exports_normalized\", \"gdp_growth_normalized\"]])\n"
   ]
  },
  {
   "cell_type": "code",
   "execution_count": 27,
   "id": "258bf0e6-0ec1-412c-b851-0494e3f4d33f",
   "metadata": {
    "collapsed": true,
    "jupyter": {
     "outputs_hidden": true
    }
   },
   "outputs": [
    {
     "name": "stdout",
     "output_type": "stream",
     "text": [
      "Index(['Country', 'Year', 'internet_users', 'rnd_expenditure',\n",
      "       'hightech_exports', 'gdp_growth', 'internet_users_normalized',\n",
      "       'rnd_expenditure_normalized', 'hightech_export_normalized',\n",
      "       'hightech_exports_normalized', 'gdp_growth_normalized'],\n",
      "      dtype='object')\n"
     ]
    }
   ],
   "source": [
    "print(df.columns)\n"
   ]
  },
  {
   "cell_type": "markdown",
   "id": "aaab9d7a-5093-4639-9a8a-06097da1a608",
   "metadata": {},
   "source": [
    "So now we will construct the formula. It will be simple. We will use \"Equal Weighting\" where all indicators will be considered equally important.\n",
    "As we indicated before Tech indicator (shown with T) will be the average of the normalized values of Internet users, R&D expenditure, and High-Tech Exports. Economy indicator (shown with E) will be equal to the normalized value of GDP Growth for this project, and for now :)\n"
   ]
  },
  {
   "cell_type": "code",
   "execution_count": 29,
   "id": "0c9d7a1e-03f0-4f71-953e-905ccd061f68",
   "metadata": {
    "collapsed": true,
    "jupyter": {
     "outputs_hidden": true
    }
   },
   "outputs": [
    {
     "name": "stdout",
     "output_type": "stream",
     "text": [
      "0      0.363470\n",
      "1      0.372165\n",
      "2      0.384762\n",
      "3      0.403277\n",
      "4      0.427848\n",
      "         ...   \n",
      "149    0.507981\n",
      "150    0.699253\n",
      "151    0.534993\n",
      "152    0.752081\n",
      "153    0.861810\n",
      "Name: T, Length: 154, dtype: float64\n"
     ]
    }
   ],
   "source": [
    "# T indicator\n",
    "tech_cols = [\"internet_users_normalized\", \"rnd_expenditure_normalized\", \"hightech_exports_normalized\"]\n",
    "df[\"T\"] = df[tech_cols].mean(axis=1)\n",
    "print(df[\"T\"])\n"
   ]
  },
  {
   "cell_type": "code",
   "execution_count": 30,
   "id": "7a1d6b53-2829-4d23-8374-3bc5f3ad96e5",
   "metadata": {
    "collapsed": true,
    "jupyter": {
     "outputs_hidden": true
    }
   },
   "outputs": [
    {
     "name": "stdout",
     "output_type": "stream",
     "text": [
      "0      0.658096\n",
      "1      0.347433\n",
      "2      0.167944\n",
      "3      0.262673\n",
      "4      0.044054\n",
      "         ...   \n",
      "149    0.643326\n",
      "150    0.250486\n",
      "151    0.223240\n",
      "152    0.746324\n",
      "153    0.442770\n",
      "Name: E, Length: 154, dtype: float64\n"
     ]
    }
   ],
   "source": [
    "# E indicator \n",
    "econ_cols = [\"gdp_growth_normalized\"]\n",
    "df[\"E\"] = df[econ_cols].mean(axis=1)\n",
    "print(df[\"E\"])"
   ]
  },
  {
   "cell_type": "code",
   "execution_count": 32,
   "id": "0f8b1295-0f0e-4a55-902e-1954105c7b90",
   "metadata": {},
   "outputs": [
    {
     "name": "stdout",
     "output_type": "stream",
     "text": [
      "              Country  Year         T\n",
      "97        Philippines  2023  0.939411\n",
      "96        Philippines  2022  0.911836\n",
      "153          Viet Nam  2023  0.861810\n",
      "95        Philippines  2021  0.848220\n",
      "94        Philippines  2020  0.796716\n",
      "..                ...   ...       ...\n",
      "53              India  2021  0.152324\n",
      "56          Indonesia  2010  0.152082\n",
      "57          Indonesia  2011  0.148441\n",
      "28   Egypt, Arab Rep.  2010  0.140754\n",
      "59          Indonesia  2013  0.114124\n",
      "\n",
      "[154 rows x 3 columns]\n"
     ]
    }
   ],
   "source": [
    "print(df[[\"Country\", \"Year\", \"T\"]].sort_values(by=\"T\", ascending=False))\n",
    "# Let's check it out!"
   ]
  },
  {
   "cell_type": "code",
   "execution_count": 34,
   "id": "78c16e6b-c16d-427c-a941-5b589c0e5ad1",
   "metadata": {},
   "outputs": [
    {
     "name": "stdout",
     "output_type": "stream",
     "text": [
      "          Country  Year       TEI\n",
      "96    Philippines  2022  0.787272\n",
      "137       Turkiye  2021  0.749375\n",
      "152      Viet Nam  2022  0.749203\n",
      "25          China  2021  0.742767\n",
      "14          China  2010  0.717949\n",
      "..            ...   ...       ...\n",
      "122      Thailand  2020  0.034124\n",
      "94    Philippines  2020 -0.017673\n",
      "108  South Africa  2020 -0.083709\n",
      "52          India  2020 -0.103153\n",
      "80         Mexico  2020 -0.161125\n",
      "\n",
      "[154 rows x 3 columns]\n"
     ]
    }
   ],
   "source": [
    "# Equal weighting\n",
    "df[\"TEI\"] = (df[\"E\"] + df[\"T\"]) / 2\n",
    "print(df[[\"Country\", \"Year\", \"TEI\"]].sort_values(by=\"TEI\", ascending=False))"
   ]
  }
 ],
 "metadata": {
  "kernelspec": {
   "display_name": "Python 3 (ipykernel)",
   "language": "python",
   "name": "python3"
  },
  "language_info": {
   "codemirror_mode": {
    "name": "ipython",
    "version": 3
   },
   "file_extension": ".py",
   "mimetype": "text/x-python",
   "name": "python",
   "nbconvert_exporter": "python",
   "pygments_lexer": "ipython3",
   "version": "3.12.10"
  }
 },
 "nbformat": 4,
 "nbformat_minor": 5
}
